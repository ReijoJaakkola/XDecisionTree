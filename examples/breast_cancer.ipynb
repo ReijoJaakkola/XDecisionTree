{
 "cells": [
  {
   "cell_type": "code",
   "execution_count": null,
   "id": "008b5e2f",
   "metadata": {},
   "outputs": [],
   "source": [
    "from xdecisiontree import XDecisionTreeClassifier\n",
    "from sklearn.datasets import load_breast_cancer\n",
    "\n",
    "# Load Breast Cancer dataset\n",
    "bc = load_breast_cancer(as_frame=True)\n",
    "X = bc.data\n",
    "y = bc.target\n",
    "\n",
    "# Train XDecisionTreeClassifier\n",
    "clf = XDecisionTreeClassifier(max_depth = 3, random_state=42)\n",
    "clf.fit(X, y)\n",
    "\n",
    "# Print extracted rules\n",
    "print(clf)"
   ]
  }
 ],
 "metadata": {
  "kernelspec": {
   "display_name": "Python 3",
   "language": "python",
   "name": "python3"
  },
  "language_info": {
   "codemirror_mode": {
    "name": "ipython",
    "version": 3
   },
   "file_extension": ".py",
   "mimetype": "text/x-python",
   "name": "python",
   "nbconvert_exporter": "python",
   "pygments_lexer": "ipython3",
   "version": "3.11.9"
  }
 },
 "nbformat": 4,
 "nbformat_minor": 5
}
