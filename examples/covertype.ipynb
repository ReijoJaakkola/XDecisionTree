{
 "cells": [
  {
   "cell_type": "code",
   "execution_count": null,
   "id": "e9dbbf05",
   "metadata": {},
   "outputs": [],
   "source": [
    "from xdecisiontree import XDecisionTreeClassifier\n",
    "from sklearn.datasets import fetch_covtype\n",
    "\n",
    "# Load Covertype dataset\n",
    "cov = fetch_covtype(as_frame=True)\n",
    "X = cov.data\n",
    "y = cov.target\n",
    "\n",
    "# Train XDecisionTreeClassifier\n",
    "clf = XDecisionTreeClassifier(max_depth = 3, random_state=42)\n",
    "clf.fit(X, y)\n",
    "\n",
    "# Print extracted rules\n",
    "print(clf)\n",
    "\n",
    "print()\n",
    "\n",
    "# Print rules\n",
    "clf.print_rules_with_scores(X,y)"
   ]
  }
 ],
 "metadata": {
  "kernelspec": {
   "display_name": "Python 3",
   "language": "python",
   "name": "python3"
  },
  "language_info": {
   "codemirror_mode": {
    "name": "ipython",
    "version": 3
   },
   "file_extension": ".py",
   "mimetype": "text/x-python",
   "name": "python",
   "nbconvert_exporter": "python",
   "pygments_lexer": "ipython3",
   "version": "3.11.9"
  }
 },
 "nbformat": 4,
 "nbformat_minor": 5
}
