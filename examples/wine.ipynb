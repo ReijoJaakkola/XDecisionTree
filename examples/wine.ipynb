{
 "cells": [
  {
   "cell_type": "code",
   "execution_count": null,
   "id": "b4e1c5bb",
   "metadata": {},
   "outputs": [],
   "source": [
    "from xdecisiontree import XDecisionTreeClassifier\n",
    "from sklearn.datasets import load_wine\n",
    "\n",
    "# Load Wine dataset\n",
    "wine = load_wine(as_frame=True)\n",
    "X = wine.data\n",
    "y = wine.target\n",
    "\n",
    "# Train XDecisionTreeClassifier\n",
    "clf = XDecisionTreeClassifier(max_depth = 3, random_state=42)\n",
    "clf.fit(X, y)\n",
    "\n",
    "# Print classifier\n",
    "print(clf)\n",
    "\n",
    "print()\n",
    "\n",
    "# Print rules\n",
    "clf.print_rules_with_scores(X,y)"
   ]
  }
 ],
 "metadata": {
  "kernelspec": {
   "display_name": "Python 3",
   "language": "python",
   "name": "python3"
  },
  "language_info": {
   "codemirror_mode": {
    "name": "ipython",
    "version": 3
   },
   "file_extension": ".py",
   "mimetype": "text/x-python",
   "name": "python",
   "nbconvert_exporter": "python",
   "pygments_lexer": "ipython3",
   "version": "3.11.9"
  }
 },
 "nbformat": 4,
 "nbformat_minor": 5
}
