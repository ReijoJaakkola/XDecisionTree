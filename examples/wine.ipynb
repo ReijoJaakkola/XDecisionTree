{
 "cells": [
  {
   "cell_type": "code",
   "execution_count": null,
   "id": "b4e1c5bb",
   "metadata": {},
   "outputs": [],
   "source": [
    "from xdecisiontree import XDecisionTreeClassifier\n",
    "from sklearn.datasets import load_wine\n",
    "from sklearn.model_selection import train_test_split\n",
    "\n",
    "# Load Wine dataset\n",
    "wine = load_wine(as_frame=True)\n",
    "X = wine.data\n",
    "y = wine.target\n",
    "\n",
    "# Split the dataset into training and testing sets\n",
    "X_train, X_test, y_train, y_test = train_test_split(X, y, train_size = 0.9, random_state=42)\n",
    "\n",
    "# Train XDecisionTreeClassifier\n",
    "clf = XDecisionTreeClassifier(max_depth = 5, random_state=42)\n",
    "clf.fit(X_train, y_train)\n",
    "\n",
    "# Print extracted rules\n",
    "print(clf)"
   ]
  }
 ],
 "metadata": {
  "kernelspec": {
   "display_name": "Python 3",
   "language": "python",
   "name": "python3"
  },
  "language_info": {
   "codemirror_mode": {
    "name": "ipython",
    "version": 3
   },
   "file_extension": ".py",
   "mimetype": "text/x-python",
   "name": "python",
   "nbconvert_exporter": "python",
   "pygments_lexer": "ipython3",
   "version": "3.11.9"
  }
 },
 "nbformat": 4,
 "nbformat_minor": 5
}
